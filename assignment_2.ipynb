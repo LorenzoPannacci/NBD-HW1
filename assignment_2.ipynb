{
 "cells": [
  {
   "cell_type": "code",
   "execution_count": 8,
   "metadata": {},
   "outputs": [
    {
     "name": "stdout",
     "output_type": "stream",
     "text": [
      "Defaulting to user installation because normal site-packages is not writeable\n",
      "Requirement already satisfied: numpy in d:\\file\\anaconda\\lib\\site-packages (1.24.3)\n",
      "Requirement already satisfied: networkx in d:\\file\\anaconda\\lib\\site-packages (3.1)\n"
     ]
    }
   ],
   "source": [
    "!pip install numpy networkx"
   ]
  },
  {
   "cell_type": "code",
   "execution_count": 9,
   "metadata": {},
   "outputs": [],
   "source": [
    "import numpy as np\n",
    "import networkx as nx"
   ]
  },
  {
   "cell_type": "markdown",
   "metadata": {},
   "source": [
    "Common unit measures:\n",
    "* time: seconds\n",
    "* data: gigabytes"
   ]
  },
  {
   "cell_type": "code",
   "execution_count": 2,
   "metadata": {},
   "outputs": [],
   "source": [
    "# NUMERICAL VALUES\n",
    "\n",
    "# C: capacity of each link (in Gbit/s -> GB/s)\n",
    "C = 10 / 8\n",
    "\n",
    "# tau: time to move between two nodes (in microseconds -> seconds)\n",
    "tau = 5 / 1000000\n",
    "\n",
    "# L_f: size of input data (in TB -> GB)\n",
    "L_f = 4 * 1000\n",
    "\n",
    "# L_o: size of output data (in TB -> GB)\n",
    "L_o = 4 * 1000\n",
    "\n",
    "# E_X: expected value of X, the variable amount of time of the computational job (in hours -> seconds)\n",
    "E_X = 8 * 3600\n",
    "\n",
    "# T_0: fixed setup time (in seconds)\n",
    "T_0 = 30\n",
    "\n",
    "# xi: coefficient for average server time in job running cost calculation\n",
    "xi = 0.1\n",
    "\n",
    "# f: fracion of overhead of data given by TCP\n",
    "f = 48 / 1500\n",
    "\n",
    "# n: number of ports per switch\n",
    "n = 64\n",
    "\n",
    "# N_max: max number of parallel tasks\n",
    "N_max = 10000"
   ]
  },
  {
   "cell_type": "markdown",
   "metadata": {},
   "source": [
    "Work pipeline for no parallelism:\n",
    "* Data arrives at server A\n",
    "* A starts computation\n",
    "* A ends computation and the response is available\n",
    "\n",
    "$E[R] = T_0 + E[X] = 30 + 8 * 3.600 = 28.830$ seconds\n",
    "\n",
    "$S = E[R] + \\xi E[\\Theta] = T_0 + E[X] + \\xi (T_0 + E[X]) = (1 + \\xi) * (T_0 + E[X]) = 1.1 * (28.830) = 31.713$ seconds\n"
   ]
  },
  {
   "cell_type": "code",
   "execution_count": 6,
   "metadata": {},
   "outputs": [],
   "source": [
    "# E_R_local: mean response time for local computation (in seconds)\n",
    "E_R_local = T_0 + E_X\n",
    "\n",
    "# S_local: job running cost for local computation\n",
    "S_local = int(E_R_local + xi * E_R_local)"
   ]
  },
  {
   "cell_type": "markdown",
   "metadata": {},
   "source": [
    "Work pipeline with parallelism:\n",
    "* Build network\n",
    "* Get distances of nodes\n",
    "* Data arrives at server A\n",
    "* Data get sent to subservers (consider overhead)\n",
    "* Get computation time of each subserver\n",
    "* Get data produced to each subserver\n",
    "* Get network delay time for each subserver (consider overhead)\n",
    "* Get time of slowest subserver"
   ]
  },
  {
   "cell_type": "code",
   "execution_count": 40,
   "metadata": {},
   "outputs": [],
   "source": [
    "def get_fat_tree_distances(N):\n",
    "    same_edge_n_servers = (n // 2) - 1\n",
    "    same_edge_distance = 2\n",
    "\n",
    "    same_pod_n_servers = (n**2) // 4 - same_edge_n_servers\n",
    "    same_pod_distance = 4\n",
    "\n",
    "    inter_pod_n_servers = (n**3) // 4 - same_pod_n_servers - same_edge_n_servers\n",
    "    inter_pod_distance = 6\n",
    "\n",
    "    if(N <= same_edge_n_servers):\n",
    "        return np.full(N, same_edge_distance)\n",
    "    else:\n",
    "        distances_array = np.full(same_edge_n_servers, same_edge_distance)\n",
    "\n",
    "    if(N <= same_pod_n_servers + same_edge_n_servers):\n",
    "        return np.concatenate((distances_array, np.full(N - same_edge_n_servers, same_pod_distance)), axis=None)\n",
    "    else:\n",
    "        distances_array = np.concatenate((distances_array, np.full(same_pod_n_servers, same_pod_distance)), axis=None)\n",
    "\n",
    "    if(N <= inter_pod_n_servers + same_pod_n_servers + same_edge_n_servers):\n",
    "        return np.concatenate((distances_array, np.full(N - same_edge_n_servers - same_pod_n_servers, inter_pod_distance)), axis=None)\n",
    "    else:\n",
    "        raise ValueError(\"N is too large.\")\n",
    "    \n",
    "def get_fat_tree_rtts(N):\n",
    "    distances_array = get_fat_tree_distances(N)\n",
    "    rtts_array = 2 * tau * distances_array\n",
    "\n",
    "    return rtts_array\n",
    "\n",
    "def get_fat_tree_throughputs(N):\n",
    "    rtts_array = get_fat_tree_rtts(N)\n",
    "    throughputs_array = C * (1 / rtts_array) / (1 / rtts_array).sum()\n",
    "\n",
    "    return throughputs_array"
   ]
  },
  {
   "cell_type": "code",
   "execution_count": 42,
   "metadata": {},
   "outputs": [
    {
     "data": {
      "text/plain": [
       "array([0.01908397, 0.01908397, 0.01908397, 0.01908397, 0.01908397,\n",
       "       0.01908397, 0.01908397, 0.01908397, 0.01908397, 0.01908397,\n",
       "       0.01908397, 0.01908397, 0.01908397, 0.01908397, 0.01908397,\n",
       "       0.01908397, 0.01908397, 0.01908397, 0.01908397, 0.01908397,\n",
       "       0.01908397, 0.01908397, 0.01908397, 0.01908397, 0.01908397,\n",
       "       0.01908397, 0.01908397, 0.01908397, 0.01908397, 0.01908397,\n",
       "       0.01908397, 0.00954198, 0.00954198, 0.00954198, 0.00954198,\n",
       "       0.00954198, 0.00954198, 0.00954198, 0.00954198, 0.00954198,\n",
       "       0.00954198, 0.00954198, 0.00954198, 0.00954198, 0.00954198,\n",
       "       0.00954198, 0.00954198, 0.00954198, 0.00954198, 0.00954198,\n",
       "       0.00954198, 0.00954198, 0.00954198, 0.00954198, 0.00954198,\n",
       "       0.00954198, 0.00954198, 0.00954198, 0.00954198, 0.00954198,\n",
       "       0.00954198, 0.00954198, 0.00954198, 0.00954198, 0.00954198,\n",
       "       0.00954198, 0.00954198, 0.00954198, 0.00954198, 0.00954198,\n",
       "       0.00954198, 0.00954198, 0.00954198, 0.00954198, 0.00954198,\n",
       "       0.00954198, 0.00954198, 0.00954198, 0.00954198, 0.00954198,\n",
       "       0.00954198, 0.00954198, 0.00954198, 0.00954198, 0.00954198,\n",
       "       0.00954198, 0.00954198, 0.00954198, 0.00954198, 0.00954198,\n",
       "       0.00954198, 0.00954198, 0.00954198, 0.00954198, 0.00954198,\n",
       "       0.00954198, 0.00954198, 0.00954198, 0.00954198, 0.00954198])"
      ]
     },
     "execution_count": 42,
     "metadata": {},
     "output_type": "execute_result"
    }
   ],
   "source": [
    "get_fat_tree_throughputs(100)"
   ]
  }
 ],
 "metadata": {
  "kernelspec": {
   "display_name": "base",
   "language": "python",
   "name": "python3"
  },
  "language_info": {
   "codemirror_mode": {
    "name": "ipython",
    "version": 3
   },
   "file_extension": ".py",
   "mimetype": "text/x-python",
   "name": "python",
   "nbconvert_exporter": "python",
   "pygments_lexer": "ipython3",
   "version": "3.11.4"
  }
 },
 "nbformat": 4,
 "nbformat_minor": 2
}
